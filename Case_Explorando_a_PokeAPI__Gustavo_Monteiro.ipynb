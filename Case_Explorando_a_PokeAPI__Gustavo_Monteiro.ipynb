{
  "nbformat": 4,
  "nbformat_minor": 0,
  "metadata": {
    "colab": {
      "provenance": [],
      "authorship_tag": "ABX9TyMMUub/ilYUvv7B+FInqRt0",
      "include_colab_link": true
    },
    "kernelspec": {
      "name": "python3",
      "display_name": "Python 3"
    },
    "language_info": {
      "name": "python"
    }
  },
  "cells": [
    {
      "cell_type": "markdown",
      "metadata": {
        "id": "view-in-github",
        "colab_type": "text"
      },
      "source": [
        "<a href=\"https://colab.research.google.com/github/GustMont/Explorando_a_PokeAPI/blob/main/Case_Explorando_a_PokeAPI__Gustavo_Monteiro.ipynb\" target=\"_parent\"><img src=\"https://colab.research.google.com/assets/colab-badge.svg\" alt=\"Open In Colab\"/></a>"
      ]
    },
    {
      "cell_type": "markdown",
      "source": [
        "# Objetivo: Desenvolver uma aplicação que utilize a PokeAPI para obter dados sobre os Pokémon e exibi-los de forma organizada"
      ],
      "metadata": {
        "id": "bkB8j_uWnQfF"
      }
    },
    {
      "cell_type": "markdown",
      "source": [
        "Referências utilizadas:\n",
        "ChatGPT"
      ],
      "metadata": {
        "id": "rt5SqQA3DNKp"
      }
    },
    {
      "cell_type": "markdown",
      "source": [
        "## Requisitos"
      ],
      "metadata": {
        "id": "I7ecTFrenbxx"
      }
    },
    {
      "cell_type": "markdown",
      "source": [
        "1. A aplicação deve ser desenvolvida em python.\n",
        "2. A PokeAPI está disponível em https://pokeapi.co/\n",
        "3. Utilize as seguintes funcionalidades da API:\n",
        "   - Obter lista de Pokémon.\n",
        "   - Obter detalhes de um Pokémon específico.\n",
        "   - Obter informações sobre os tipos de Pokémon.\n",
        "4. Exiba os dados dos Pokémon de forma organizada."
      ],
      "metadata": {
        "id": "kddFz5VMndsh"
      }
    },
    {
      "cell_type": "markdown",
      "source": [
        "## Desafios"
      ],
      "metadata": {
        "id": "e9xbUb3BnlOA"
      }
    },
    {
      "cell_type": "markdown",
      "source": [
        "1. Gerar gráficos para análise dos Pokemons.\n",
        "2. Dado 2 tipos, qual leva vantagem em uma batalha."
      ],
      "metadata": {
        "id": "WNz2eFXVntjc"
      }
    },
    {
      "cell_type": "markdown",
      "source": [
        "## Sugestões para a implementação"
      ],
      "metadata": {
        "id": "sL7nj-Wlnxe5"
      }
    },
    {
      "cell_type": "markdown",
      "source": [
        "1. Ao escolher um Pokémon, exiba os detalhes desse Pokémon, como altura, peso, habilidades, tipos, etc...\n",
        "2. Ao escolher um tipo, exiba os detalhes desse tipo, como contagem, todos os pokemons desse tipo específico, etc...\n"
      ],
      "metadata": {
        "id": "NvOIgpLxnzEj"
      }
    },
    {
      "cell_type": "markdown",
      "source": [
        "## Perguntas"
      ],
      "metadata": {
        "id": "vq-z7bCjn4wc"
      }
    },
    {
      "cell_type": "markdown",
      "source": [
        "1. Como você pretende obter os dados da PokeAPI? Quais bibliotecas ou frameworks você considera usar?\n",
        "\n",
        "Resposta: As bibliotecas que utizarei serão as para construção de gráficos e tabelas, e as que permitam acessar a API.\n",
        "2. Como você planeja estruturar e organizar o código da aplicação?\n",
        "\n",
        "Resposta: Para facilitar a visualização dos requisitos, irei separar o código em relação ao que foi solicitado em cada requisito.\n",
        "3. Quais informações dos Pokémon você pretende exibir na parte de detalhes? Como pretende formatar essas informações?\n",
        "\n",
        "Resposta: Vou mostrar o que foi pedido, como número, nome, altura, peso, tipagem, habilidades, e também um gráfico contendo os stats do pokémon que foi indicado pelo usuário. Sobre a formatação, usarei a padrão, para o indicar o nome do atributo que será mostrado, e o valor deste atributo. Na tipagem, será adicionado a cor do tipo, para facilitar visualização.\n",
        "4. Como você planeja lidar com erros ou falhas na obtenção dos dados da API?\n",
        "\n",
        "Resposta: Para os erros, será necessário pesquisar e mexer aos poucos no código, para saber quando o erro aparece, e até onde o código funciona sem erros.\n",
        "5. Que melhorias ou recursos adicionais você considera implementar para tornar a aplicação mais interessante?\n",
        "\n",
        "Resposta: Eu gostei da adição de cores, nas tipagens, para facilitar a visualização pelo usuário, e para deixar a aplicação mais interessante e divertida. acredito que seria interessante adicionar outras personalizações, como imagens, e melhorar a forma que as informações aparecem na tela, como no gráfico, que os textos ficaram sobrepostos, mas não consegui ajustar no momento."
      ],
      "metadata": {
        "id": "f9xQVVWon8VX"
      }
    },
    {
      "cell_type": "markdown",
      "source": [
        "# Importação de bibliotecas"
      ],
      "metadata": {
        "id": "j0T_6d0UAcXZ"
      }
    },
    {
      "cell_type": "code",
      "source": [
        "import requests\n",
        "import matplotlib.pyplot as plt\n",
        "from prettytable import PrettyTable\n",
        "from IPython.display import Markdown, display"
      ],
      "metadata": {
        "id": "9fgHl_SKAfzs"
      },
      "execution_count": 1,
      "outputs": []
    },
    {
      "cell_type": "markdown",
      "source": [
        "# Obter Lista de Pokémon"
      ],
      "metadata": {
        "id": "fiYMQt9doDAA"
      }
    },
    {
      "cell_type": "code",
      "source": [
        "def obter_lista_pokemon():\n",
        "    url = \"https://pokeapi.co/api/v2/pokemon?limit=151\"\n",
        "    response = requests.get(url)\n",
        "\n",
        "    data = response.json()\n",
        "    results = data['results']\n",
        "    pokemon_list = []\n",
        "    for index, pokemon in enumerate(results, start=1):\n",
        "        pokemon_name = pokemon['name']\n",
        "        pokemon_number = str(index).zfill(3)\n",
        "        pokemon_list.append(f\"#{pokemon_number} {pokemon_name.capitalize()}\")\n",
        "    return pokemon_list\n",
        "\n",
        "\n",
        "pokemon_list = obter_lista_pokemon()\n",
        "if pokemon_list:\n",
        "    for pokemon in pokemon_list:\n",
        "        print(pokemon)\n"
      ],
      "metadata": {
        "colab": {
          "base_uri": "https://localhost:8080/"
        },
        "id": "rO8bzFoypq0R",
        "outputId": "bf253075-e8fb-44bb-d544-a3fa8dc57341"
      },
      "execution_count": 2,
      "outputs": [
        {
          "output_type": "stream",
          "name": "stdout",
          "text": [
            "#001 Bulbasaur\n",
            "#002 Ivysaur\n",
            "#003 Venusaur\n",
            "#004 Charmander\n",
            "#005 Charmeleon\n",
            "#006 Charizard\n",
            "#007 Squirtle\n",
            "#008 Wartortle\n",
            "#009 Blastoise\n",
            "#010 Caterpie\n",
            "#011 Metapod\n",
            "#012 Butterfree\n",
            "#013 Weedle\n",
            "#014 Kakuna\n",
            "#015 Beedrill\n",
            "#016 Pidgey\n",
            "#017 Pidgeotto\n",
            "#018 Pidgeot\n",
            "#019 Rattata\n",
            "#020 Raticate\n",
            "#021 Spearow\n",
            "#022 Fearow\n",
            "#023 Ekans\n",
            "#024 Arbok\n",
            "#025 Pikachu\n",
            "#026 Raichu\n",
            "#027 Sandshrew\n",
            "#028 Sandslash\n",
            "#029 Nidoran-f\n",
            "#030 Nidorina\n",
            "#031 Nidoqueen\n",
            "#032 Nidoran-m\n",
            "#033 Nidorino\n",
            "#034 Nidoking\n",
            "#035 Clefairy\n",
            "#036 Clefable\n",
            "#037 Vulpix\n",
            "#038 Ninetales\n",
            "#039 Jigglypuff\n",
            "#040 Wigglytuff\n",
            "#041 Zubat\n",
            "#042 Golbat\n",
            "#043 Oddish\n",
            "#044 Gloom\n",
            "#045 Vileplume\n",
            "#046 Paras\n",
            "#047 Parasect\n",
            "#048 Venonat\n",
            "#049 Venomoth\n",
            "#050 Diglett\n",
            "#051 Dugtrio\n",
            "#052 Meowth\n",
            "#053 Persian\n",
            "#054 Psyduck\n",
            "#055 Golduck\n",
            "#056 Mankey\n",
            "#057 Primeape\n",
            "#058 Growlithe\n",
            "#059 Arcanine\n",
            "#060 Poliwag\n",
            "#061 Poliwhirl\n",
            "#062 Poliwrath\n",
            "#063 Abra\n",
            "#064 Kadabra\n",
            "#065 Alakazam\n",
            "#066 Machop\n",
            "#067 Machoke\n",
            "#068 Machamp\n",
            "#069 Bellsprout\n",
            "#070 Weepinbell\n",
            "#071 Victreebel\n",
            "#072 Tentacool\n",
            "#073 Tentacruel\n",
            "#074 Geodude\n",
            "#075 Graveler\n",
            "#076 Golem\n",
            "#077 Ponyta\n",
            "#078 Rapidash\n",
            "#079 Slowpoke\n",
            "#080 Slowbro\n",
            "#081 Magnemite\n",
            "#082 Magneton\n",
            "#083 Farfetchd\n",
            "#084 Doduo\n",
            "#085 Dodrio\n",
            "#086 Seel\n",
            "#087 Dewgong\n",
            "#088 Grimer\n",
            "#089 Muk\n",
            "#090 Shellder\n",
            "#091 Cloyster\n",
            "#092 Gastly\n",
            "#093 Haunter\n",
            "#094 Gengar\n",
            "#095 Onix\n",
            "#096 Drowzee\n",
            "#097 Hypno\n",
            "#098 Krabby\n",
            "#099 Kingler\n",
            "#100 Voltorb\n",
            "#101 Electrode\n",
            "#102 Exeggcute\n",
            "#103 Exeggutor\n",
            "#104 Cubone\n",
            "#105 Marowak\n",
            "#106 Hitmonlee\n",
            "#107 Hitmonchan\n",
            "#108 Lickitung\n",
            "#109 Koffing\n",
            "#110 Weezing\n",
            "#111 Rhyhorn\n",
            "#112 Rhydon\n",
            "#113 Chansey\n",
            "#114 Tangela\n",
            "#115 Kangaskhan\n",
            "#116 Horsea\n",
            "#117 Seadra\n",
            "#118 Goldeen\n",
            "#119 Seaking\n",
            "#120 Staryu\n",
            "#121 Starmie\n",
            "#122 Mr-mime\n",
            "#123 Scyther\n",
            "#124 Jynx\n",
            "#125 Electabuzz\n",
            "#126 Magmar\n",
            "#127 Pinsir\n",
            "#128 Tauros\n",
            "#129 Magikarp\n",
            "#130 Gyarados\n",
            "#131 Lapras\n",
            "#132 Ditto\n",
            "#133 Eevee\n",
            "#134 Vaporeon\n",
            "#135 Jolteon\n",
            "#136 Flareon\n",
            "#137 Porygon\n",
            "#138 Omanyte\n",
            "#139 Omastar\n",
            "#140 Kabuto\n",
            "#141 Kabutops\n",
            "#142 Aerodactyl\n",
            "#143 Snorlax\n",
            "#144 Articuno\n",
            "#145 Zapdos\n",
            "#146 Moltres\n",
            "#147 Dratini\n",
            "#148 Dragonair\n",
            "#149 Dragonite\n",
            "#150 Mewtwo\n",
            "#151 Mew\n"
          ]
        }
      ]
    },
    {
      "cell_type": "markdown",
      "source": [
        "# Obter detalhes do pokémon"
      ],
      "metadata": {
        "id": "enZTUyBrq_FF"
      }
    },
    {
      "cell_type": "code",
      "source": [
        "def obter_detalhes_pokemon(pokemon_input):\n",
        "    if pokemon_input.isdigit():\n",
        "        url = f\"https://pokeapi.co/api/v2/pokemon/{pokemon_input}\"\n",
        "    else:\n",
        "        url = f\"https://pokeapi.co/api/v2/pokemon/{pokemon_input.lower()}\"\n",
        "\n",
        "    response = requests.get(url)\n",
        "\n",
        "    data = response.json()\n",
        "    pokemon_details = {\n",
        "        \"Número\": data['id'],\n",
        "        \"Nome\": data['name'].capitalize(),\n",
        "        \"Altura\": data['height'],\n",
        "        \"Peso\": data['weight'],\n",
        "        \"Habilidades\": [ability['ability']['name'] for ability in data['abilities']],\n",
        "        \"Tipos\": [type['type']['name'] for type in data['types']]\n",
        "    }\n",
        "    return pokemon_details\n",
        "\n",
        "def display_colored_text(text, color):\n",
        "    color_code = color.lower() if color.lower() in [\"red\", \"green\", \"blue\", \"yellow\", \"cyan\", \"magenta\", \"black\", \"white\", \"gray\"] else \"black\"  # Cor padrão: preto\n",
        "\n",
        "    display(Markdown(f\"<font color='{color_code}'>{text}</font>\"))\n",
        "\n",
        "\n",
        "pokemon_input = input(\"Digite o número ou o nome de um Pokémon: \")\n",
        "pokemon_details = obter_detalhes_pokemon(pokemon_input)\n",
        "\n",
        "if pokemon_details:\n",
        "    display_colored_text(\"Detalhes do Pokémon:\", \"gray\")\n",
        "    for key, value in pokemon_details.items():\n",
        "        if key == \"Tipos\":\n",
        "            for tipo in value:\n",
        "                if tipo == \"water\":\n",
        "                    display_colored_text(f\"{key}: {tipo}\", \"blue\")\n",
        "                elif tipo in [\"fire\", \"fighting\", \"rock\"]:\n",
        "                    display_colored_text(f\"{key}: {tipo}\", \"red\")\n",
        "                elif tipo in [\"electric\", \"ground\"]:\n",
        "                    display_colored_text(f\"{key}: {tipo}\", \"yellow\")\n",
        "                elif tipo in [\"grass\", \"bug\"]:\n",
        "                    display_colored_text(f\"{key}: {tipo}\", \"green\")\n",
        "                elif tipo in [\"ice\", \"flying\"]:\n",
        "                    display_colored_text(f\"{key}: {tipo}\", \"cyan\")\n",
        "                elif tipo in [\"fairy\", \"psychic\", \"poison\"]:\n",
        "                    display_colored_text(f\"{key}: {tipo}\", \"magenta\")\n",
        "                elif tipo == \"steel\":\n",
        "                    display_colored_text(f\"{key}: {tipo}\", \"gray\")\n",
        "                elif tipo in [\"dark\", \"ghost\", \"poison\"]:\n",
        "                    display_colored_text(f\"{key}: {tipo}\", \"black\")\n",
        "                else:\n",
        "                    display_colored_text(f\"{key}: {tipo}\", \"white\")\n",
        "        else:\n",
        "            display_colored_text(f\"{key}: {value}\", \"gray\")\n"
      ],
      "metadata": {
        "colab": {
          "base_uri": "https://localhost:8080/",
          "height": 227
        },
        "id": "akCWCH7wtiIN",
        "outputId": "1953070d-8f00-45dc-ee07-1807bc6ab6e8"
      },
      "execution_count": 12,
      "outputs": [
        {
          "name": "stdout",
          "output_type": "stream",
          "text": [
            "Digite o número ou o nome de um Pokémon: Charizard\n"
          ]
        },
        {
          "output_type": "display_data",
          "data": {
            "text/plain": [
              "<IPython.core.display.Markdown object>"
            ],
            "text/markdown": "<font color='gray'>Detalhes do Pokémon:</font>"
          },
          "metadata": {}
        },
        {
          "output_type": "display_data",
          "data": {
            "text/plain": [
              "<IPython.core.display.Markdown object>"
            ],
            "text/markdown": "<font color='gray'>Número: 6</font>"
          },
          "metadata": {}
        },
        {
          "output_type": "display_data",
          "data": {
            "text/plain": [
              "<IPython.core.display.Markdown object>"
            ],
            "text/markdown": "<font color='gray'>Nome: Charizard</font>"
          },
          "metadata": {}
        },
        {
          "output_type": "display_data",
          "data": {
            "text/plain": [
              "<IPython.core.display.Markdown object>"
            ],
            "text/markdown": "<font color='gray'>Altura: 17</font>"
          },
          "metadata": {}
        },
        {
          "output_type": "display_data",
          "data": {
            "text/plain": [
              "<IPython.core.display.Markdown object>"
            ],
            "text/markdown": "<font color='gray'>Peso: 905</font>"
          },
          "metadata": {}
        },
        {
          "output_type": "display_data",
          "data": {
            "text/plain": [
              "<IPython.core.display.Markdown object>"
            ],
            "text/markdown": "<font color='gray'>Habilidades: ['blaze', 'solar-power']</font>"
          },
          "metadata": {}
        },
        {
          "output_type": "display_data",
          "data": {
            "text/plain": [
              "<IPython.core.display.Markdown object>"
            ],
            "text/markdown": "<font color='red'>Tipos: fire</font>"
          },
          "metadata": {}
        },
        {
          "output_type": "display_data",
          "data": {
            "text/plain": [
              "<IPython.core.display.Markdown object>"
            ],
            "text/markdown": "<font color='cyan'>Tipos: flying</font>"
          },
          "metadata": {}
        }
      ]
    },
    {
      "cell_type": "code",
      "source": [
        "def obter_detalhes_pokemon(pokemon_input):\n",
        "    if pokemon_input.isdigit():\n",
        "        url = f\"https://pokeapi.co/api/v2/pokemon/{pokemon_input}\"\n",
        "    else:\n",
        "        url = f\"https://pokeapi.co/api/v2/pokemon/{pokemon_input.lower()}\"\n",
        "\n",
        "    response = requests.get(url)\n",
        "\n",
        "    data = response.json()\n",
        "    pokemon_details = {\n",
        "        \"Número\": data['id'],\n",
        "        \"Nome\": data['name'].capitalize(),\n",
        "        \"Altura\": data['height'],\n",
        "        \"Peso\": data['weight'],\n",
        "        \"Habilidades\": [ability['ability']['name'] for ability in data['abilities']],\n",
        "        \"Tipos\": [type['type']['name'] for type in data['types']],\n",
        "        \"Stats\": {stat['stat']['name']: stat['base_stat'] for stat in data['stats']}\n",
        "    }\n",
        "    return pokemon_details\n",
        "\n",
        "def display_colored_text(text, color):\n",
        "    color_code = color.lower() if color.lower() in [\"red\", \"green\", \"blue\", \"yellow\", \"cyan\", \"magenta\", \"black\", \"white\", \"gray\"] else \"black\"  # Cor padrão: preto\n",
        "\n",
        "    display(Markdown(f\"<font color='{color_code}'>{text}</font>\"))\n",
        "\n",
        "def gerar_grafico_status(stats):\n",
        "    labels = stats.keys()\n",
        "    values = stats.values()\n",
        "\n",
        "    colors = [\"gray\", \"red\", \"yellow\", \"magenta\", \"cyan\", \"blue\"]\n",
        "\n",
        "    plt.bar(labels, values, color=colors)\n",
        "    plt.xlabel('Stats')\n",
        "    plt.ylabel('Valor')\n",
        "    plt.title(f'Status do Pokémon:{pokemon_input}')\n",
        "    plt.show()\n",
        "\n",
        "pokemon_input = input(\"Digite o número ou o nome de um Pokémon: \")\n",
        "pokemon_details = obter_detalhes_pokemon(pokemon_input)\n",
        "\n",
        "if pokemon_details:\n",
        "    display_colored_text(\"Detalhes do Pokémon:\", \"gray\")\n",
        "    for key, value in pokemon_details.items():\n",
        "        if key == \"Stats\":\n",
        "            gerar_grafico_status(value)\n",
        "        elif key == \"Tipos\":\n",
        "            for tipo in value:\n",
        "                if tipo == \"water\":\n",
        "                    display_colored_text(f\"{key}: {tipo}\", \"blue\")\n",
        "                elif tipo in [\"fire\", \"fighting\", \"rock\"]:\n",
        "                    display_colored_text(f\"{key}: {tipo}\", \"red\")\n",
        "                elif tipo in [\"electric\", \"ground\"]:\n",
        "                    display_colored_text(f\"{key}: {tipo}\", \"yellow\")\n",
        "                elif tipo in [\"grass\", \"bug\"]:\n",
        "                    display_colored_text(f\"{key}: {tipo}\", \"green\")\n",
        "                elif tipo in [\"ice\", \"flying\"]:\n",
        "                    display_colored_text(f\"{key}: {tipo}\", \"cyan\")\n",
        "                elif tipo in [\"fairy\", \"psychic\", \"poison\"]:\n",
        "                    display_colored_text(f\"{key}: {tipo}\", \"magenta\")\n",
        "                elif tipo == \"steel\":\n",
        "                    display_colored_text(f\"{key}: {tipo}\", \"gray\")\n",
        "                elif tipo in [\"dark\", \"ghost\", \"poison\"]:\n",
        "                    display_colored_text(f\"{key}: {tipo}\", \"black\")\n",
        "                else:\n",
        "                    display_colored_text(f\"{key}: {tipo}\", \"white\")\n",
        "        else:\n",
        "            display_colored_text(f\"{key}: {value}\", \"gray\")\n"
      ],
      "metadata": {
        "colab": {
          "base_uri": "https://localhost:8080/",
          "height": 682
        },
        "id": "B_LWCmFT3muJ",
        "outputId": "ce736ac4-290a-4a34-9698-2896ed76e982"
      },
      "execution_count": 13,
      "outputs": [
        {
          "name": "stdout",
          "output_type": "stream",
          "text": [
            "Digite o número ou o nome de um Pokémon: Starmie\n"
          ]
        },
        {
          "output_type": "display_data",
          "data": {
            "text/plain": [
              "<IPython.core.display.Markdown object>"
            ],
            "text/markdown": "<font color='gray'>Detalhes do Pokémon:</font>"
          },
          "metadata": {}
        },
        {
          "output_type": "display_data",
          "data": {
            "text/plain": [
              "<IPython.core.display.Markdown object>"
            ],
            "text/markdown": "<font color='gray'>Número: 121</font>"
          },
          "metadata": {}
        },
        {
          "output_type": "display_data",
          "data": {
            "text/plain": [
              "<IPython.core.display.Markdown object>"
            ],
            "text/markdown": "<font color='gray'>Nome: Starmie</font>"
          },
          "metadata": {}
        },
        {
          "output_type": "display_data",
          "data": {
            "text/plain": [
              "<IPython.core.display.Markdown object>"
            ],
            "text/markdown": "<font color='gray'>Altura: 11</font>"
          },
          "metadata": {}
        },
        {
          "output_type": "display_data",
          "data": {
            "text/plain": [
              "<IPython.core.display.Markdown object>"
            ],
            "text/markdown": "<font color='gray'>Peso: 800</font>"
          },
          "metadata": {}
        },
        {
          "output_type": "display_data",
          "data": {
            "text/plain": [
              "<IPython.core.display.Markdown object>"
            ],
            "text/markdown": "<font color='gray'>Habilidades: ['illuminate', 'natural-cure', 'analytic']</font>"
          },
          "metadata": {}
        },
        {
          "output_type": "display_data",
          "data": {
            "text/plain": [
              "<IPython.core.display.Markdown object>"
            ],
            "text/markdown": "<font color='blue'>Tipos: water</font>"
          },
          "metadata": {}
        },
        {
          "output_type": "display_data",
          "data": {
            "text/plain": [
              "<IPython.core.display.Markdown object>"
            ],
            "text/markdown": "<font color='magenta'>Tipos: psychic</font>"
          },
          "metadata": {}
        },
        {
          "output_type": "display_data",
          "data": {
            "text/plain": [
              "<Figure size 640x480 with 1 Axes>"
            ],
            "image/png": "[encoded data removed]"
          },
          "metadata": {}
        }
      ]
    },
    {
      "cell_type": "markdown",
      "source": [
        "# Informação sobre os tipos"
      ],
      "metadata": {
        "id": "tcorKkkuzmxD"
      }
    },
    {
      "cell_type": "code",
      "source": [
        "def obter_detalhes_tipo(tipo):\n",
        "    url = f\"https://pokeapi.co/api/v2/type/{tipo.lower()}\"\n",
        "    response = requests.get(url)\n",
        "    data = response.json()\n",
        "    pokemons = [(pokemon['pokemon']['name'], pokemon['pokemon']['url'].split('/')[-2]) for pokemon in data['pokemon']]\n",
        "    contagem = len(pokemons)\n",
        "    return pokemons, contagem\n",
        "\n",
        "def exibir_tabela_detalhes_pokemon(pokemons):\n",
        "    table = PrettyTable([\"Número do Pokémon\", \"Nome do Pokémon\"])\n",
        "    for nome, numero in pokemons:\n",
        "        table.add_row([numero, nome])\n",
        "    print(table)\n",
        "\n",
        "tipo_input = input(\"Digite o tipo de Pokémon (Water, Fire, etc): \")\n",
        "pokemons, contagem = obter_detalhes_tipo(tipo_input)\n",
        "\n",
        "if pokemons:\n",
        "    print(f\"Quantidade de Pokémon do tipo {tipo_input.capitalize()}: {contagem}\")\n",
        "    print(\"Detalhes do Tipo de Pokémon:\")\n",
        "    exibir_tabela_detalhes_pokemon(pokemons)\n"
      ],
      "metadata": {
        "colab": {
          "base_uri": "https://localhost:8080/"
        },
        "id": "F2I0ueXd04pP",
        "outputId": "d22f033f-3fc1-4e48-c291-966ef6d52644"
      },
      "execution_count": 15,
      "outputs": [
        {
          "output_type": "stream",
          "name": "stdout",
          "text": [
            "Digite o tipo de Pokémon (Water, Fire, etc): bug\n",
            "Quantidade de Pokémon do tipo Bug: 104\n",
            "Detalhes do Tipo de Pokémon:\n",
            "+-------------------+------------------+\n",
            "| Número do Pokémon | Nome do Pokémon  |\n",
            "+-------------------+------------------+\n",
            "|         10        |     caterpie     |\n",
            "|         11        |     metapod      |\n",
            "|         12        |    butterfree    |\n",
            "|         13        |      weedle      |\n",
            "|         14        |      kakuna      |\n",
            "|         15        |     beedrill     |\n",
            "|         46        |      paras       |\n",
            "|         47        |     parasect     |\n",
            "|         48        |     venonat      |\n",
            "|         49        |     venomoth     |\n",
            "|        123        |     scyther      |\n",
            "|        127        |      pinsir      |\n",
            "|        165        |      ledyba      |\n",
            "|        166        |      ledian      |\n",
            "|        167        |     spinarak     |\n",
            "|        168        |     ariados      |\n",
            "|        193        |      yanma       |\n",
            "|        204        |      pineco      |\n",
            "|        205        |    forretress    |\n",
            "|        212        |      scizor      |\n",
            "|        213        |     shuckle      |\n",
            "|        214        |    heracross     |\n",
            "|        265        |     wurmple      |\n",
            "|        266        |     silcoon      |\n",
            "|        267        |    beautifly     |\n",
            "|        268        |     cascoon      |\n",
            "|        269        |      dustox      |\n",
            "|        283        |     surskit      |\n",
            "|        284        |    masquerain    |\n",
            "|        290        |     nincada      |\n",
            "|        291        |     ninjask      |\n",
            "|        292        |     shedinja     |\n",
            "|        313        |     volbeat      |\n",
            "|        314        |     illumise     |\n",
            "|        347        |     anorith      |\n",
            "|        348        |     armaldo      |\n",
            "|        401        |    kricketot     |\n",
            "|        402        |    kricketune    |\n",
            "|        412        |      burmy       |\n",
            "|        413        |  wormadam-plant  |\n",
            "|        414        |      mothim      |\n",
            "|        415        |      combee      |\n",
            "|        416        |    vespiquen     |\n",
            "|        451        |     skorupi      |\n",
            "|        469        |     yanmega      |\n",
            "|        540        |     sewaddle     |\n",
            "|        541        |     swadloon     |\n",
            "|        542        |     leavanny     |\n",
            "|        543        |     venipede     |\n",
            "|        544        |    whirlipede    |\n",
            "|        545        |    scolipede     |\n",
            "|        557        |     dwebble      |\n",
            "|        558        |     crustle      |\n",
            "|        588        |    karrablast    |\n",
            "|        589        |    escavalier    |\n",
            "|        595        |      joltik      |\n",
            "|        596        |    galvantula    |\n",
            "|        616        |     shelmet      |\n",
            "|        617        |     accelgor     |\n",
            "|        632        |      durant      |\n",
            "|        636        |     larvesta     |\n",
            "|        637        |    volcarona     |\n",
            "|        649        |     genesect     |\n",
            "|        664        |    scatterbug    |\n",
            "|        665        |      spewpa      |\n",
            "|        666        |     vivillon     |\n",
            "|        736        |     grubbin      |\n",
            "|        737        |    charjabug     |\n",
            "|        738        |     vikavolt     |\n",
            "|        742        |     cutiefly     |\n",
            "|        743        |     ribombee     |\n",
            "|        751        |     dewpider     |\n",
            "|        752        |    araquanid     |\n",
            "|        767        |      wimpod      |\n",
            "|        768        |    golisopod     |\n",
            "|        794        |     buzzwole     |\n",
            "|        795        |    pheromosa     |\n",
            "|        824        |     blipbug      |\n",
            "|        825        |     dottler      |\n",
            "|        826        |     orbeetle     |\n",
            "|        850        |    sizzlipede    |\n",
            "|        851        |   centiskorch    |\n",
            "|        872        |       snom       |\n",
            "|        873        |     frosmoth     |\n",
            "|        900        |     kleavor      |\n",
            "|        917        |    tarountula    |\n",
            "|        918        |     spidops      |\n",
            "|        919        |      nymble      |\n",
            "|        920        |      lokix       |\n",
            "|        953        |      rellor      |\n",
            "|        954        |      rabsca      |\n",
            "|        988        |   slither-wing   |\n",
            "|       10004       |  wormadam-sandy  |\n",
            "|       10005       |  wormadam-trash  |\n",
            "|       10040       |   pinsir-mega    |\n",
            "|       10046       |   scizor-mega    |\n",
            "|       10047       |  heracross-mega  |\n",
            "|       10090       |  beedrill-mega   |\n",
            "|       10122       |  vikavolt-totem  |\n",
            "|       10150       |  ribombee-totem  |\n",
            "|       10153       | araquanid-totem  |\n",
            "|       10198       | butterfree-gmax  |\n",
            "|       10213       |  orbeetle-gmax   |\n",
            "|       10220       | centiskorch-gmax |\n",
            "+-------------------+------------------+\n"
          ]
        }
      ]
    },
    {
      "cell_type": "markdown",
      "source": [
        "# Vantagem entre dois tipos"
      ],
      "metadata": {
        "id": "1HS8_t5S9uIg"
      }
    },
    {
      "cell_type": "code",
      "source": [
        "def obter_vantagem_tipo(tipo1, tipo2):\n",
        "    fraquezas = {\n",
        "        'normal': ['fighting'],\n",
        "        'fighting': ['flying', 'psychic', 'fairy'],\n",
        "        'flying': ['electric', 'ice', 'rock'],\n",
        "        'poison': ['ground', 'psychic'],\n",
        "        'ground': ['water', 'grass', 'ice'],\n",
        "        'rock': ['water', 'grass', 'fighting', 'ground', 'steel'],\n",
        "        'bug': ['fire', 'flying', 'rock'],\n",
        "        'ghost': ['ghost', 'psychic'],\n",
        "        'steel': ['fire', 'fighting', 'ground'],\n",
        "        'fire': ['water', 'ground', 'rock'],\n",
        "        'water': ['electric', 'grass'],\n",
        "        'grass': ['fire', 'ice', 'poison', 'flying', 'bug'],\n",
        "        'electric': ['ground'],\n",
        "        'psychic': ['bug', 'ghost', 'dark'],\n",
        "        'ice': ['fire', 'fighting', 'rock', 'steel'],\n",
        "        'dragon': ['ice', 'dragon', 'fairy'],\n",
        "        'dark': ['fighting', 'bug', 'fairy'],\n",
        "        'fairy': ['poison', 'steel'],\n",
        "    }\n",
        "\n",
        "    if tipo1.lower() in fraquezas:\n",
        "        if tipo2.lower() in fraquezas[tipo1.lower()]:\n",
        "            return tipo2\n",
        "    if tipo2.lower() in fraquezas:\n",
        "        if tipo1.lower() in fraquezas[tipo2.lower()]:\n",
        "            return tipo1\n",
        "\n",
        "    return \"Nenhum dos tipos tem vantagem sobre o outro.\"\n",
        "\n",
        "tipo1 = input(\"Digite o primeiro tipo de Pokémon: \")\n",
        "tipo2 = input(\"Digite o segundo tipo de Pokémon: \")\n",
        "\n",
        "vantagem = obter_vantagem_tipo(tipo1, tipo2)\n",
        "\n",
        "print(f\"O tipo que tem vantagem sobre o outro é:\")\n",
        "\n",
        "if vantagem == \"water\":\n",
        "    display_colored_text(f\"{vantagem}\", \"blue\")\n",
        "elif vantagem in [\"fire\", \"fighting\", \"rock\"]:\n",
        "    display_colored_text(f\"{vantagem}\", \"red\")\n",
        "elif vantagem in [\"electric\", \"ground\"]:\n",
        "    display_colored_text(f\"{vantagem}\", \"yellow\")\n",
        "elif vantagem in [\"grass\", \"bug\"]:\n",
        "    display_colored_text(f\"{vantagem}\", \"green\")\n",
        "elif vantagem in [\"ice\", \"flying\"]:\n",
        "    display_colored_text(f\"{vantagem}\", \"cyan\")\n",
        "elif vantagem in [\"fairy\", \"psychic\", \"poison\"]:\n",
        "    display_colored_text(f\"{vantagem}\", \"magenta\")\n",
        "elif vantagem == \"steel\":\n",
        "    display_colored_text(f\"{vantagem}\", \"gray\")\n",
        "elif vantagem in [\"dark\", \"ghost\", \"poison\"]:\n",
        "    display_colored_text(f\"{vantagem}\", \"black\")\n",
        "else:\n",
        "    display_colored_text(f\"{vantagem}\", \"gray\")\n"
      ],
      "metadata": {
        "colab": {
          "base_uri": "https://localhost:8080/",
          "height": 98
        },
        "id": "tT8HuCaD2JTD",
        "outputId": "ea9a090c-4348-485c-ffcc-5327457094b2"
      },
      "execution_count": 14,
      "outputs": [
        {
          "output_type": "stream",
          "name": "stdout",
          "text": [
            "Digite o primeiro tipo de Pokémon: ice\n",
            "Digite o segundo tipo de Pokémon: fighting\n",
            "O tipo que tem vantagem sobre o outro é:\n"
          ]
        },
        {
          "output_type": "display_data",
          "data": {
            "text/plain": [
              "<IPython.core.display.Markdown object>"
            ],
            "text/markdown": "<font color='red'>fighting</font>"
          },
          "metadata": {}
        }
      ]
    }
  ]
}